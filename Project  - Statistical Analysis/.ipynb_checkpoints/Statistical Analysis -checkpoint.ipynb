{
 "cells": [
  {
   "cell_type": "code",
   "execution_count": 1,
   "metadata": {},
   "outputs": [],
   "source": [
    "import pandas as pd \n",
    "import numpy as np\n",
    "from scipy import stats\n",
    "import matplotlib.pyplot as plt\n",
    "import seaborn as sns\n",
    "import plotly.graph_objects as go\n",
    "pd.options.display.max_rows = 999"
   ]
  },
  {
   "cell_type": "code",
   "execution_count": 2,
   "metadata": {},
   "outputs": [],
   "source": [
    "df = pd.read_csv(\"train.csv\")"
   ]
  },
  {
   "cell_type": "code",
   "execution_count": 3,
   "metadata": {},
   "outputs": [
    {
     "data": {
      "text/plain": [
       "Id                  0\n",
       "MSSubClass          0\n",
       "MSZoning            0\n",
       "LotFrontage       259\n",
       "LotArea             0\n",
       "Street              0\n",
       "Alley            1369\n",
       "LotShape            0\n",
       "LandContour         0\n",
       "Utilities           0\n",
       "LotConfig           0\n",
       "LandSlope           0\n",
       "Neighborhood        0\n",
       "Condition1          0\n",
       "Condition2          0\n",
       "BldgType            0\n",
       "HouseStyle          0\n",
       "OverallQual         0\n",
       "OverallCond         0\n",
       "YearBuilt           0\n",
       "YearRemodAdd        0\n",
       "RoofStyle           0\n",
       "RoofMatl            0\n",
       "Exterior1st         0\n",
       "Exterior2nd         0\n",
       "MasVnrType          8\n",
       "MasVnrArea          8\n",
       "ExterQual           0\n",
       "ExterCond           0\n",
       "Foundation          0\n",
       "BsmtQual           37\n",
       "BsmtCond           37\n",
       "BsmtExposure       38\n",
       "BsmtFinType1       37\n",
       "BsmtFinSF1          0\n",
       "BsmtFinType2       38\n",
       "BsmtFinSF2          0\n",
       "BsmtUnfSF           0\n",
       "TotalBsmtSF         0\n",
       "Heating             0\n",
       "HeatingQC           0\n",
       "CentralAir          0\n",
       "Electrical          1\n",
       "1stFlrSF            0\n",
       "2ndFlrSF            0\n",
       "LowQualFinSF        0\n",
       "GrLivArea           0\n",
       "BsmtFullBath        0\n",
       "BsmtHalfBath        0\n",
       "FullBath            0\n",
       "HalfBath            0\n",
       "BedroomAbvGr        0\n",
       "KitchenAbvGr        0\n",
       "KitchenQual         0\n",
       "TotRmsAbvGrd        0\n",
       "Functional          0\n",
       "Fireplaces          0\n",
       "FireplaceQu       690\n",
       "GarageType         81\n",
       "GarageYrBlt        81\n",
       "GarageFinish       81\n",
       "GarageCars          0\n",
       "GarageArea          0\n",
       "GarageQual         81\n",
       "GarageCond         81\n",
       "PavedDrive          0\n",
       "WoodDeckSF          0\n",
       "OpenPorchSF         0\n",
       "EnclosedPorch       0\n",
       "3SsnPorch           0\n",
       "ScreenPorch         0\n",
       "PoolArea            0\n",
       "PoolQC           1453\n",
       "Fence            1179\n",
       "MiscFeature      1406\n",
       "MiscVal             0\n",
       "MoSold              0\n",
       "YrSold              0\n",
       "SaleType            0\n",
       "SaleCondition       0\n",
       "SalePrice           0\n",
       "dtype: int64"
      ]
     },
     "execution_count": 3,
     "metadata": {},
     "output_type": "execute_result"
    }
   ],
   "source": [
    "df.isna().sum()"
   ]
  },
  {
   "cell_type": "code",
   "execution_count": 4,
   "metadata": {},
   "outputs": [
    {
     "data": {
      "text/plain": [
       "1453"
      ]
     },
     "execution_count": 4,
     "metadata": {},
     "output_type": "execute_result"
    }
   ],
   "source": [
    "df.PoolQC.isna().sum()"
   ]
  },
  {
   "cell_type": "code",
   "execution_count": 5,
   "metadata": {
    "scrolled": true
   },
   "outputs": [
    {
     "data": {
      "text/plain": [
       "Id                 int64\n",
       "MSSubClass         int64\n",
       "MSZoning          object\n",
       "LotFrontage      float64\n",
       "LotArea            int64\n",
       "Street            object\n",
       "Alley             object\n",
       "LotShape          object\n",
       "LandContour       object\n",
       "Utilities         object\n",
       "LotConfig         object\n",
       "LandSlope         object\n",
       "Neighborhood      object\n",
       "Condition1        object\n",
       "Condition2        object\n",
       "BldgType          object\n",
       "HouseStyle        object\n",
       "OverallQual        int64\n",
       "OverallCond        int64\n",
       "YearBuilt          int64\n",
       "YearRemodAdd       int64\n",
       "RoofStyle         object\n",
       "RoofMatl          object\n",
       "Exterior1st       object\n",
       "Exterior2nd       object\n",
       "MasVnrType        object\n",
       "MasVnrArea       float64\n",
       "ExterQual         object\n",
       "ExterCond         object\n",
       "Foundation        object\n",
       "BsmtQual          object\n",
       "BsmtCond          object\n",
       "BsmtExposure      object\n",
       "BsmtFinType1      object\n",
       "BsmtFinSF1         int64\n",
       "BsmtFinType2      object\n",
       "BsmtFinSF2         int64\n",
       "BsmtUnfSF          int64\n",
       "TotalBsmtSF        int64\n",
       "Heating           object\n",
       "HeatingQC         object\n",
       "CentralAir        object\n",
       "Electrical        object\n",
       "1stFlrSF           int64\n",
       "2ndFlrSF           int64\n",
       "LowQualFinSF       int64\n",
       "GrLivArea          int64\n",
       "BsmtFullBath       int64\n",
       "BsmtHalfBath       int64\n",
       "FullBath           int64\n",
       "HalfBath           int64\n",
       "BedroomAbvGr       int64\n",
       "KitchenAbvGr       int64\n",
       "KitchenQual       object\n",
       "TotRmsAbvGrd       int64\n",
       "Functional        object\n",
       "Fireplaces         int64\n",
       "FireplaceQu       object\n",
       "GarageType        object\n",
       "GarageYrBlt      float64\n",
       "GarageFinish      object\n",
       "GarageCars         int64\n",
       "GarageArea         int64\n",
       "GarageQual        object\n",
       "GarageCond        object\n",
       "PavedDrive        object\n",
       "WoodDeckSF         int64\n",
       "OpenPorchSF        int64\n",
       "EnclosedPorch      int64\n",
       "3SsnPorch          int64\n",
       "ScreenPorch        int64\n",
       "PoolArea           int64\n",
       "PoolQC            object\n",
       "Fence             object\n",
       "MiscFeature       object\n",
       "MiscVal            int64\n",
       "MoSold             int64\n",
       "YrSold             int64\n",
       "SaleType          object\n",
       "SaleCondition     object\n",
       "SalePrice          int64\n",
       "dtype: object"
      ]
     },
     "execution_count": 5,
     "metadata": {},
     "output_type": "execute_result"
    }
   ],
   "source": [
    "df.dtypes"
   ]
  },
  {
   "cell_type": "markdown",
   "metadata": {},
   "source": [
    "#### DROP Variables with lot of NAN"
   ]
  },
  {
   "cell_type": "code",
   "execution_count": 6,
   "metadata": {},
   "outputs": [],
   "source": [
    "df = df[[c for c in df if df[c].isnull().sum() < 250]]"
   ]
  },
  {
   "cell_type": "markdown",
   "metadata": {},
   "source": [
    "#### EXPLORATION"
   ]
  },
  {
   "cell_type": "code",
   "execution_count": 7,
   "metadata": {},
   "outputs": [
    {
     "data": {
      "text/plain": [
       "array([[<matplotlib.axes._subplots.AxesSubplot object at 0x0000029758C681C8>]],\n",
       "      dtype=object)"
      ]
     },
     "execution_count": 7,
     "metadata": {},
     "output_type": "execute_result"
    },
    {
     "data": {
      "image/png": "[encoded data removed]",
      "text/plain": [
       "<Figure size 432x288 with 1 Axes>"
      ]
     },
     "metadata": {
      "needs_background": "light"
     },
     "output_type": "display_data"
    }
   ],
   "source": [
    "#Explore the Y Variable\n",
    "df[\"SalePrice\"].value_counts()\n",
    "df.hist(column='SalePrice', bins = 10, alpha = 0.7)"
   ]
  },
  {
   "cell_type": "code",
   "execution_count": 8,
   "metadata": {},
   "outputs": [
    {
     "data": {
      "text/plain": [
       "count      1460.000000\n",
       "mean     180921.195890\n",
       "std       79442.502883\n",
       "min       34900.000000\n",
       "25%      129975.000000\n",
       "50%      163000.000000\n",
       "75%      214000.000000\n",
       "max      755000.000000\n",
       "Name: SalePrice, dtype: float64"
      ]
     },
     "execution_count": 8,
     "metadata": {},
     "output_type": "execute_result"
    }
   ],
   "source": [
    "df.SalePrice.describe()"
   ]
  },
  {
   "cell_type": "code",
   "execution_count": 9,
   "metadata": {},
   "outputs": [
    {
     "data": {
      "text/plain": [
       "array([[<matplotlib.axes._subplots.AxesSubplot object at 0x000002975ECB1948>]],\n",
       "      dtype=object)"
      ]
     },
     "execution_count": 9,
     "metadata": {},
     "output_type": "execute_result"
    },
    {
     "data": {
      "image/png": "[encoded data removed]",
      "text/plain": [
       "<Figure size 432x288 with 1 Axes>"
      ]
     },
     "metadata": {
      "needs_background": "light"
     },
     "output_type": "display_data"
    }
   ],
   "source": [
    "df.hist(column='LotArea', bins = 70 , alpha = 0.7)"
   ]
  },
  {
   "cell_type": "code",
   "execution_count": 10,
   "metadata": {},
   "outputs": [
    {
     "data": {
      "text/plain": [
       "count      1460.000000\n",
       "mean      10516.828082\n",
       "std        9981.264932\n",
       "min        1300.000000\n",
       "25%        7553.500000\n",
       "50%        9478.500000\n",
       "75%       11601.500000\n",
       "max      215245.000000\n",
       "Name: LotArea, dtype: float64"
      ]
     },
     "execution_count": 10,
     "metadata": {},
     "output_type": "execute_result"
    }
   ],
   "source": [
    "df.LotArea.describe()\n",
    "#There are some extremely big properties - Throw them out?"
   ]
  },
  {
   "cell_type": "code",
   "execution_count": 11,
   "metadata": {},
   "outputs": [
    {
     "data": {
      "text/plain": [
       "<bound method Series.count of 53       50271\n",
       "249     159000\n",
       "313     215245\n",
       "335     164660\n",
       "384      53107\n",
       "451      70761\n",
       "457      53227\n",
       "706     115149\n",
       "769      53504\n",
       "1298     63887\n",
       "1396     57200\n",
       "Name: LotArea, dtype: int64>"
      ]
     },
     "execution_count": 11,
     "metadata": {},
     "output_type": "execute_result"
    }
   ],
   "source": [
    "df.LotArea[df[\"LotArea\"]>50000].count\n",
    "\n",
    "# Yes there are only 11 houses with more than 50.000 qm so throw them out "
   ]
  },
  {
   "cell_type": "code",
   "execution_count": 12,
   "metadata": {},
   "outputs": [],
   "source": [
    "df = df[df['LotArea'] <= 50000]  "
   ]
  },
  {
   "cell_type": "code",
   "execution_count": 13,
   "metadata": {},
   "outputs": [
    {
     "data": {
      "text/plain": [
       "count     1449.000000\n",
       "mean      9867.879917\n",
       "std       4578.300353\n",
       "min       1300.000000\n",
       "25%       7500.000000\n",
       "50%       9450.000000\n",
       "75%      11500.000000\n",
       "max      46589.000000\n",
       "Name: LotArea, dtype: float64"
      ]
     },
     "execution_count": 13,
     "metadata": {},
     "output_type": "execute_result"
    }
   ],
   "source": [
    "df.LotArea.describe()"
   ]
  },
  {
   "cell_type": "code",
   "execution_count": 14,
   "metadata": {},
   "outputs": [
    {
     "data": {
      "text/plain": [
       "[Text(0, 0, 'CollgCr'),\n",
       " Text(0, 0, 'Veenker'),\n",
       " Text(0, 0, 'Crawfor'),\n",
       " Text(0, 0, 'NoRidge'),\n",
       " Text(0, 0, 'Mitchel'),\n",
       " Text(0, 0, 'Somerst'),\n",
       " Text(0, 0, 'NWAmes'),\n",
       " Text(0, 0, 'OldTown'),\n",
       " Text(0, 0, 'BrkSide'),\n",
       " Text(0, 0, 'Sawyer'),\n",
       " Text(0, 0, 'NridgHt'),\n",
       " Text(0, 0, 'NAmes'),\n",
       " Text(0, 0, 'SawyerW'),\n",
       " Text(0, 0, 'IDOTRR'),\n",
       " Text(0, 0, 'MeadowV'),\n",
       " Text(0, 0, 'Edwards'),\n",
       " Text(0, 0, 'Timber'),\n",
       " Text(0, 0, 'Gilbert'),\n",
       " Text(0, 0, 'StoneBr'),\n",
       " Text(0, 0, 'ClearCr'),\n",
       " Text(0, 0, 'NPkVill'),\n",
       " Text(0, 0, 'Blmngtn'),\n",
       " Text(0, 0, 'BrDale'),\n",
       " Text(0, 0, 'SWISU'),\n",
       " Text(0, 0, 'Blueste')]"
      ]
     },
     "execution_count": 14,
     "metadata": {},
     "output_type": "execute_result"
    },
    {
     "data": {
      "image/png": "[encoded data removed]",
      "text/plain": [
       "<Figure size 432x288 with 1 Axes>"
      ]
     },
     "metadata": {
      "needs_background": "light"
     },
     "output_type": "display_data"
    }
   ],
   "source": [
    "chart_neighborhood = sns.countplot(df['Neighborhood'])\n",
    "chart_neighborhood.set_xticklabels(chart_neighborhood.get_xticklabels(), rotation=90)"
   ]
  },
  {
   "cell_type": "code",
   "execution_count": 15,
   "metadata": {},
   "outputs": [
    {
     "data": {
      "text/plain": [
       "count    1449.000000\n",
       "mean     1971.242926\n",
       "std        30.271932\n",
       "min      1872.000000\n",
       "25%      1954.000000\n",
       "50%      1973.000000\n",
       "75%      2000.000000\n",
       "max      2010.000000\n",
       "Name: YearBuilt, dtype: float64"
      ]
     },
     "execution_count": 15,
     "metadata": {},
     "output_type": "execute_result"
    }
   ],
   "source": [
    "df.YearBuilt.describe()"
   ]
  },
  {
   "cell_type": "code",
   "execution_count": 16,
   "metadata": {
    "scrolled": true
   },
   "outputs": [
    {
     "data": {
      "text/plain": [
       "count    1449.000000\n",
       "mean     1984.856453\n",
       "std        20.659502\n",
       "min      1950.000000\n",
       "25%      1967.000000\n",
       "50%      1994.000000\n",
       "75%      2004.000000\n",
       "max      2010.000000\n",
       "Name: YearRemodAdd, dtype: float64"
      ]
     },
     "execution_count": 16,
     "metadata": {},
     "output_type": "execute_result"
    }
   ],
   "source": [
    "df.YearRemodAdd.describe()\n",
    "\n",
    "# I guess the Year of remodeling is more important for analysis than the year it was first built"
   ]
  },
  {
   "cell_type": "code",
   "execution_count": 17,
   "metadata": {},
   "outputs": [
    {
     "data": {
      "text/plain": [
       "0"
      ]
     },
     "execution_count": 17,
     "metadata": {},
     "output_type": "execute_result"
    }
   ],
   "source": [
    "df.YearRemodAdd.isna().sum()"
   ]
  },
  {
   "cell_type": "code",
   "execution_count": 18,
   "metadata": {},
   "outputs": [
    {
     "data": {
      "text/plain": [
       "count    1449.000000\n",
       "mean        2.868185\n",
       "std         0.813314\n",
       "min         0.000000\n",
       "25%         2.000000\n",
       "50%         3.000000\n",
       "75%         3.000000\n",
       "max         8.000000\n",
       "Name: BedroomAbvGr, dtype: float64"
      ]
     },
     "execution_count": 18,
     "metadata": {},
     "output_type": "execute_result"
    }
   ],
   "source": [
    "df.BedroomAbvGr.describe()\n",
    "#drop rooms with 0 bedrooms"
   ]
  },
  {
   "cell_type": "code",
   "execution_count": 19,
   "metadata": {},
   "outputs": [],
   "source": [
    "df = df[df[\"BedroomAbvGr\"]>0]"
   ]
  },
  {
   "cell_type": "code",
   "execution_count": 20,
   "metadata": {},
   "outputs": [
    {
     "data": {
      "text/plain": [
       "<matplotlib.axes._subplots.AxesSubplot at 0x2975ecd30c8>"
      ]
     },
     "execution_count": 20,
     "metadata": {},
     "output_type": "execute_result"
    },
    {
     "data": {
      "image/png": "[encoded data removed]",
      "text/plain": [
       "<Figure size 432x288 with 1 Axes>"
      ]
     },
     "metadata": {
      "needs_background": "light"
     },
     "output_type": "display_data"
    }
   ],
   "source": [
    "sns.countplot(df['YrSold'])"
   ]
  },
  {
   "cell_type": "code",
   "execution_count": 21,
   "metadata": {},
   "outputs": [
    {
     "data": {
      "text/plain": [
       "<matplotlib.axes._subplots.AxesSubplot at 0x2975ef6fb08>"
      ]
     },
     "execution_count": 21,
     "metadata": {},
     "output_type": "execute_result"
    },
    {
     "data": {
      "image/png": "[encoded data removed]",
      "text/plain": [
       "<Figure size 432x288 with 1 Axes>"
      ]
     },
     "metadata": {
      "needs_background": "light"
     },
     "output_type": "display_data"
    }
   ],
   "source": [
    "sns.countplot(df['MoSold'])"
   ]
  },
  {
   "cell_type": "markdown",
   "metadata": {},
   "source": [
    "#### To Do: \n",
    "- Create Dummy Variabbles for Seasons based On MonthSold -- It seems more houses are sold in Summer"
   ]
  },
  {
   "cell_type": "markdown",
   "metadata": {},
   "source": [
    "#### Analyzing Relationships Between Numerical Variables"
   ]
  },
  {
   "cell_type": "code",
   "execution_count": 22,
   "metadata": {},
   "outputs": [
    {
     "data": {
      "text/plain": [
       "MoSold\n",
       "1    10\n",
       "2    15\n",
       "3    21\n",
       "4    38\n",
       "5    48\n",
       "6    33\n",
       "7     6\n",
       "Name: YrSold, dtype: int64"
      ]
     },
     "execution_count": 22,
     "metadata": {},
     "output_type": "execute_result"
    }
   ],
   "source": [
    "df[df['YrSold'] == 2010].groupby('MoSold')['YrSold'].count()\n",
    "# In 2010 data was only collected until July - so we have to exclude 2010"
   ]
  },
  {
   "cell_type": "code",
   "execution_count": 23,
   "metadata": {},
   "outputs": [],
   "source": [
    "df = df[df['YrSold'] < 2010]  "
   ]
  },
  {
   "cell_type": "code",
   "execution_count": 24,
   "metadata": {},
   "outputs": [
    {
     "data": {
      "text/html": [
       "<div>\n",
       "<style scoped>\n",
       "    .dataframe tbody tr th:only-of-type {\n",
       "        vertical-align: middle;\n",
       "    }\n",
       "\n",
       "    .dataframe tbody tr th {\n",
       "        vertical-align: top;\n",
       "    }\n",
       "\n",
       "    .dataframe thead th {\n",
       "        text-align: right;\n",
       "    }\n",
       "</style>\n",
       "<table border=\"1\" class=\"dataframe\">\n",
       "  <thead>\n",
       "    <tr style=\"text-align: right;\">\n",
       "      <th></th>\n",
       "      <th>Id</th>\n",
       "      <th>MSSubClass</th>\n",
       "      <th>MSZoning</th>\n",
       "      <th>LotArea</th>\n",
       "      <th>Street</th>\n",
       "      <th>LotShape</th>\n",
       "      <th>LandContour</th>\n",
       "      <th>Utilities</th>\n",
       "      <th>LotConfig</th>\n",
       "      <th>LandSlope</th>\n",
       "      <th>...</th>\n",
       "      <th>EnclosedPorch</th>\n",
       "      <th>3SsnPorch</th>\n",
       "      <th>ScreenPorch</th>\n",
       "      <th>PoolArea</th>\n",
       "      <th>MiscVal</th>\n",
       "      <th>MoSold</th>\n",
       "      <th>YrSold</th>\n",
       "      <th>SaleType</th>\n",
       "      <th>SaleCondition</th>\n",
       "      <th>SalePrice</th>\n",
       "    </tr>\n",
       "  </thead>\n",
       "  <tbody>\n",
       "    <tr>\n",
       "      <th>0</th>\n",
       "      <td>1</td>\n",
       "      <td>60</td>\n",
       "      <td>RL</td>\n",
       "      <td>8450</td>\n",
       "      <td>Pave</td>\n",
       "      <td>Reg</td>\n",
       "      <td>Lvl</td>\n",
       "      <td>AllPub</td>\n",
       "      <td>Inside</td>\n",
       "      <td>Gtl</td>\n",
       "      <td>...</td>\n",
       "      <td>0</td>\n",
       "      <td>0</td>\n",
       "      <td>0</td>\n",
       "      <td>0</td>\n",
       "      <td>0</td>\n",
       "      <td>2</td>\n",
       "      <td>2008</td>\n",
       "      <td>WD</td>\n",
       "      <td>Normal</td>\n",
       "      <td>208500</td>\n",
       "    </tr>\n",
       "    <tr>\n",
       "      <th>1</th>\n",
       "      <td>2</td>\n",
       "      <td>20</td>\n",
       "      <td>RL</td>\n",
       "      <td>9600</td>\n",
       "      <td>Pave</td>\n",
       "      <td>Reg</td>\n",
       "      <td>Lvl</td>\n",
       "      <td>AllPub</td>\n",
       "      <td>FR2</td>\n",
       "      <td>Gtl</td>\n",
       "      <td>...</td>\n",
       "      <td>0</td>\n",
       "      <td>0</td>\n",
       "      <td>0</td>\n",
       "      <td>0</td>\n",
       "      <td>0</td>\n",
       "      <td>5</td>\n",
       "      <td>2007</td>\n",
       "      <td>WD</td>\n",
       "      <td>Normal</td>\n",
       "      <td>181500</td>\n",
       "    </tr>\n",
       "    <tr>\n",
       "      <th>2</th>\n",
       "      <td>3</td>\n",
       "      <td>60</td>\n",
       "      <td>RL</td>\n",
       "      <td>11250</td>\n",
       "      <td>Pave</td>\n",
       "      <td>IR1</td>\n",
       "      <td>Lvl</td>\n",
       "      <td>AllPub</td>\n",
       "      <td>Inside</td>\n",
       "      <td>Gtl</td>\n",
       "      <td>...</td>\n",
       "      <td>0</td>\n",
       "      <td>0</td>\n",
       "      <td>0</td>\n",
       "      <td>0</td>\n",
       "      <td>0</td>\n",
       "      <td>9</td>\n",
       "      <td>2008</td>\n",
       "      <td>WD</td>\n",
       "      <td>Normal</td>\n",
       "      <td>223500</td>\n",
       "    </tr>\n",
       "    <tr>\n",
       "      <th>3</th>\n",
       "      <td>4</td>\n",
       "      <td>70</td>\n",
       "      <td>RL</td>\n",
       "      <td>9550</td>\n",
       "      <td>Pave</td>\n",
       "      <td>IR1</td>\n",
       "      <td>Lvl</td>\n",
       "      <td>AllPub</td>\n",
       "      <td>Corner</td>\n",
       "      <td>Gtl</td>\n",
       "      <td>...</td>\n",
       "      <td>272</td>\n",
       "      <td>0</td>\n",
       "      <td>0</td>\n",
       "      <td>0</td>\n",
       "      <td>0</td>\n",
       "      <td>2</td>\n",
       "      <td>2006</td>\n",
       "      <td>WD</td>\n",
       "      <td>Abnorml</td>\n",
       "      <td>140000</td>\n",
       "    </tr>\n",
       "    <tr>\n",
       "      <th>4</th>\n",
       "      <td>5</td>\n",
       "      <td>60</td>\n",
       "      <td>RL</td>\n",
       "      <td>14260</td>\n",
       "      <td>Pave</td>\n",
       "      <td>IR1</td>\n",
       "      <td>Lvl</td>\n",
       "      <td>AllPub</td>\n",
       "      <td>FR2</td>\n",
       "      <td>Gtl</td>\n",
       "      <td>...</td>\n",
       "      <td>0</td>\n",
       "      <td>0</td>\n",
       "      <td>0</td>\n",
       "      <td>0</td>\n",
       "      <td>0</td>\n",
       "      <td>12</td>\n",
       "      <td>2008</td>\n",
       "      <td>WD</td>\n",
       "      <td>Normal</td>\n",
       "      <td>250000</td>\n",
       "    </tr>\n",
       "  </tbody>\n",
       "</table>\n",
       "<p>5 rows × 75 columns</p>\n",
       "</div>"
      ],
      "text/plain": [
       "   Id  MSSubClass MSZoning  LotArea Street LotShape LandContour Utilities  \\\n",
       "0   1          60       RL     8450   Pave      Reg         Lvl    AllPub   \n",
       "1   2          20       RL     9600   Pave      Reg         Lvl    AllPub   \n",
       "2   3          60       RL    11250   Pave      IR1         Lvl    AllPub   \n",
       "3   4          70       RL     9550   Pave      IR1         Lvl    AllPub   \n",
       "4   5          60       RL    14260   Pave      IR1         Lvl    AllPub   \n",
       "\n",
       "  LotConfig LandSlope  ... EnclosedPorch 3SsnPorch ScreenPorch PoolArea  \\\n",
       "0    Inside       Gtl  ...             0         0           0        0   \n",
       "1       FR2       Gtl  ...             0         0           0        0   \n",
       "2    Inside       Gtl  ...             0         0           0        0   \n",
       "3    Corner       Gtl  ...           272         0           0        0   \n",
       "4       FR2       Gtl  ...             0         0           0        0   \n",
       "\n",
       "  MiscVal  MoSold  YrSold  SaleType  SaleCondition SalePrice  \n",
       "0       0       2    2008        WD         Normal    208500  \n",
       "1       0       5    2007        WD         Normal    181500  \n",
       "2       0       9    2008        WD         Normal    223500  \n",
       "3       0       2    2006        WD        Abnorml    140000  \n",
       "4       0      12    2008        WD         Normal    250000  \n",
       "\n",
       "[5 rows x 75 columns]"
      ]
     },
     "execution_count": 24,
     "metadata": {},
     "output_type": "execute_result"
    }
   ],
   "source": [
    "df.head()"
   ]
  },
  {
   "cell_type": "code",
   "execution_count": 25,
   "metadata": {
    "scrolled": true
   },
   "outputs": [
    {
     "data": {
      "text/plain": [
       "Id                 int64\n",
       "MSSubClass         int64\n",
       "MSZoning          object\n",
       "LotArea            int64\n",
       "Street            object\n",
       "LotShape          object\n",
       "LandContour       object\n",
       "Utilities         object\n",
       "LotConfig         object\n",
       "LandSlope         object\n",
       "Neighborhood      object\n",
       "Condition1        object\n",
       "Condition2        object\n",
       "BldgType          object\n",
       "HouseStyle        object\n",
       "OverallQual        int64\n",
       "OverallCond        int64\n",
       "YearBuilt          int64\n",
       "YearRemodAdd       int64\n",
       "RoofStyle         object\n",
       "RoofMatl          object\n",
       "Exterior1st       object\n",
       "Exterior2nd       object\n",
       "MasVnrType        object\n",
       "MasVnrArea       float64\n",
       "ExterQual         object\n",
       "ExterCond         object\n",
       "Foundation        object\n",
       "BsmtQual          object\n",
       "BsmtCond          object\n",
       "BsmtExposure      object\n",
       "BsmtFinType1      object\n",
       "BsmtFinSF1         int64\n",
       "BsmtFinType2      object\n",
       "BsmtFinSF2         int64\n",
       "BsmtUnfSF          int64\n",
       "TotalBsmtSF        int64\n",
       "Heating           object\n",
       "HeatingQC         object\n",
       "CentralAir        object\n",
       "Electrical        object\n",
       "1stFlrSF           int64\n",
       "2ndFlrSF           int64\n",
       "LowQualFinSF       int64\n",
       "GrLivArea          int64\n",
       "BsmtFullBath       int64\n",
       "BsmtHalfBath       int64\n",
       "FullBath           int64\n",
       "HalfBath           int64\n",
       "BedroomAbvGr       int64\n",
       "KitchenAbvGr       int64\n",
       "KitchenQual       object\n",
       "TotRmsAbvGrd       int64\n",
       "Functional        object\n",
       "Fireplaces         int64\n",
       "GarageType        object\n",
       "GarageYrBlt      float64\n",
       "GarageFinish      object\n",
       "GarageCars         int64\n",
       "GarageArea         int64\n",
       "GarageQual        object\n",
       "GarageCond        object\n",
       "PavedDrive        object\n",
       "WoodDeckSF         int64\n",
       "OpenPorchSF        int64\n",
       "EnclosedPorch      int64\n",
       "3SsnPorch          int64\n",
       "ScreenPorch        int64\n",
       "PoolArea           int64\n",
       "MiscVal            int64\n",
       "MoSold             int64\n",
       "YrSold             int64\n",
       "SaleType          object\n",
       "SaleCondition     object\n",
       "SalePrice          int64\n",
       "dtype: object"
      ]
     },
     "execution_count": 25,
     "metadata": {},
     "output_type": "execute_result"
    }
   ],
   "source": [
    "df.dtypes"
   ]
  },
  {
   "cell_type": "code",
   "execution_count": 26,
   "metadata": {},
   "outputs": [
    {
     "data": {
      "text/plain": [
       "<matplotlib.axes._subplots.AxesSubplot at 0x2975eecd488>"
      ]
     },
     "execution_count": 26,
     "metadata": {},
     "output_type": "execute_result"
    },
    {
     "data": {
      "image/png": "[encoded data removed]",
      "text/plain": [
       "<Figure size 432x288 with 1 Axes>"
      ]
     },
     "metadata": {
      "needs_background": "light"
     },
     "output_type": "display_data"
    }
   ],
   "source": [
    "sns.scatterplot(x=df['LotArea'], y=df['SalePrice'])"
   ]
  },
  {
   "cell_type": "markdown",
   "metadata": {},
   "source": [
    "### Create new Variable = PricePerArea"
   ]
  },
  {
   "cell_type": "code",
   "execution_count": 27,
   "metadata": {},
   "outputs": [],
   "source": [
    "df = df.assign(PricePerArea=df[\"SalePrice\"]/df[\"LotArea\"])"
   ]
  },
  {
   "cell_type": "code",
   "execution_count": 28,
   "metadata": {
    "scrolled": true
   },
   "outputs": [
    {
     "data": {
      "text/plain": [
       "count    1273.000000\n",
       "mean       21.247329\n",
       "std        12.346178\n",
       "min         3.923444\n",
       "25%        14.000000\n",
       "50%        17.932489\n",
       "75%        24.000000\n",
       "max        95.384615\n",
       "Name: PricePerArea, dtype: float64"
      ]
     },
     "execution_count": 28,
     "metadata": {},
     "output_type": "execute_result"
    }
   ],
   "source": [
    "df.PricePerArea.describe()"
   ]
  },
  {
   "cell_type": "code",
   "execution_count": 29,
   "metadata": {},
   "outputs": [
    {
     "data": {
      "text/plain": [
       "<matplotlib.axes._subplots.AxesSubplot at 0x2975ec6acc8>"
      ]
     },
     "execution_count": 29,
     "metadata": {},
     "output_type": "execute_result"
    },
    {
     "data": {
      "image/png": "[encoded data removed]",
      "text/plain": [
       "<Figure size 432x288 with 1 Axes>"
      ]
     },
     "metadata": {
      "needs_background": "light"
     },
     "output_type": "display_data"
    }
   ],
   "source": [
    "sns.scatterplot(x=df['OverallQual'], y=df['PricePerArea'])"
   ]
  },
  {
   "cell_type": "code",
   "execution_count": 30,
   "metadata": {},
   "outputs": [
    {
     "data": {
      "text/plain": [
       "<matplotlib.axes._subplots.AxesSubplot at 0x2975f0f4308>"
      ]
     },
     "execution_count": 30,
     "metadata": {},
     "output_type": "execute_result"
    },
    {
     "data": {
      "image/png": "[encoded data removed]",
      "text/plain": [
       "<Figure size 432x288 with 1 Axes>"
      ]
     },
     "metadata": {
      "needs_background": "light"
     },
     "output_type": "display_data"
    }
   ],
   "source": [
    "sns.scatterplot(x=df['OverallCond'], y=df['PricePerArea'])"
   ]
  },
  {
   "cell_type": "code",
   "execution_count": 31,
   "metadata": {},
   "outputs": [
    {
     "data": {
      "text/plain": [
       "<matplotlib.axes._subplots.AxesSubplot at 0x2975efc6108>"
      ]
     },
     "execution_count": 31,
     "metadata": {},
     "output_type": "execute_result"
    },
    {
     "data": {
      "image/png": "[encoded data removed]",
      "text/plain": [
       "<Figure size 432x288 with 1 Axes>"
      ]
     },
     "metadata": {
      "needs_background": "light"
     },
     "output_type": "display_data"
    }
   ],
   "source": [
    "sns.lineplot(x=df[\"YearRemodAdd\"], y=df['PricePerArea'])"
   ]
  },
  {
   "cell_type": "code",
   "execution_count": 32,
   "metadata": {},
   "outputs": [
    {
     "data": {
      "text/plain": [
       "<matplotlib.axes._subplots.AxesSubplot at 0x2975f18f708>"
      ]
     },
     "execution_count": 32,
     "metadata": {},
     "output_type": "execute_result"
    },
    {
     "data": {
      "image/png": "[encoded data removed]",
      "text/plain": [
       "<Figure size 432x288 with 1 Axes>"
      ]
     },
     "metadata": {
      "needs_background": "light"
     },
     "output_type": "display_data"
    }
   ],
   "source": [
    "sns.barplot(x=df['MoSold'], y=df['PricePerArea'])"
   ]
  },
  {
   "cell_type": "code",
   "execution_count": 33,
   "metadata": {},
   "outputs": [
    {
     "data": {
      "text/plain": [
       "<matplotlib.axes._subplots.AxesSubplot at 0x2975f282088>"
      ]
     },
     "execution_count": 33,
     "metadata": {},
     "output_type": "execute_result"
    },
    {
     "data": {
      "image/png": "[encoded data removed]",
      "text/plain": [
       "<Figure size 432x288 with 1 Axes>"
      ]
     },
     "metadata": {
      "needs_background": "light"
     },
     "output_type": "display_data"
    }
   ],
   "source": [
    "sns.barplot(x=df[\"BedroomAbvGr\"], y=df['PricePerArea'])"
   ]
  },
  {
   "cell_type": "markdown",
   "metadata": {},
   "source": [
    "#### Regression"
   ]
  },
  {
   "cell_type": "code",
   "execution_count": 109,
   "metadata": {},
   "outputs": [],
   "source": [
    "df_reg = df[[\"SalePrice\", \"PricePerArea\", \"YearRemodAdd\", \"OverallCond\", \"OverallQual\",\"YrSold\", \"YearBuilt\", \"Neighborhood\"]]"
   ]
  },
  {
   "cell_type": "code",
   "execution_count": 110,
   "metadata": {},
   "outputs": [],
   "source": [
    "import statsmodels.api as sm\n",
    "\n",
    "df_reg = sm.add_constant(df_reg)\n",
    "df_reg = sm.OLS(endog=df_reg[\"PricePerArea\"], exog=df_reg[[\"const\", \"OverallCond\", \"OverallQual\", \"YearRemodAdd\", \"YearBuilt\", \"YrSold\"]]).fit()\n"
   ]
  },
  {
   "cell_type": "code",
   "execution_count": 111,
   "metadata": {},
   "outputs": [
    {
     "data": {
      "text/html": [
       "<table class=\"simpletable\">\n",
       "<caption>OLS Regression Results</caption>\n",
       "<tr>\n",
       "  <th>Dep. Variable:</th>      <td>PricePerArea</td>   <th>  R-squared:         </th> <td>   0.199</td>\n",
       "</tr>\n",
       "<tr>\n",
       "  <th>Model:</th>                   <td>OLS</td>       <th>  Adj. R-squared:    </th> <td>   0.196</td>\n",
       "</tr>\n",
       "<tr>\n",
       "  <th>Method:</th>             <td>Least Squares</td>  <th>  F-statistic:       </th> <td>   62.84</td>\n",
       "</tr>\n",
       "<tr>\n",
       "  <th>Date:</th>             <td>Sun, 09 Feb 2020</td> <th>  Prob (F-statistic):</th> <td>1.22e-58</td>\n",
       "</tr>\n",
       "<tr>\n",
       "  <th>Time:</th>                 <td>17:47:29</td>     <th>  Log-Likelihood:    </th> <td> -4864.3</td>\n",
       "</tr>\n",
       "<tr>\n",
       "  <th>No. Observations:</th>      <td>  1273</td>      <th>  AIC:               </th> <td>   9741.</td>\n",
       "</tr>\n",
       "<tr>\n",
       "  <th>Df Residuals:</th>          <td>  1267</td>      <th>  BIC:               </th> <td>   9772.</td>\n",
       "</tr>\n",
       "<tr>\n",
       "  <th>Df Model:</th>              <td>     5</td>      <th>                     </th>     <td> </td>   \n",
       "</tr>\n",
       "<tr>\n",
       "  <th>Covariance Type:</th>      <td>nonrobust</td>    <th>                     </th>     <td> </td>   \n",
       "</tr>\n",
       "</table>\n",
       "<table class=\"simpletable\">\n",
       "<tr>\n",
       "        <td></td>          <th>coef</th>     <th>std err</th>      <th>t</th>      <th>P>|t|</th>  <th>[0.025</th>    <th>0.975]</th>  \n",
       "</tr>\n",
       "<tr>\n",
       "  <th>const</th>        <td> -686.1263</td> <td>  554.480</td> <td>   -1.237</td> <td> 0.216</td> <td>-1773.926</td> <td>  401.674</td>\n",
       "</tr>\n",
       "<tr>\n",
       "  <th>OverallCond</th>  <td>    0.4499</td> <td>    0.327</td> <td>    1.377</td> <td> 0.169</td> <td>   -0.191</td> <td>    1.091</td>\n",
       "</tr>\n",
       "<tr>\n",
       "  <th>OverallQual</th>  <td>    1.7826</td> <td>    0.287</td> <td>    6.210</td> <td> 0.000</td> <td>    1.219</td> <td>    2.346</td>\n",
       "</tr>\n",
       "<tr>\n",
       "  <th>YearRemodAdd</th> <td>    0.0566</td> <td>    0.021</td> <td>    2.682</td> <td> 0.007</td> <td>    0.015</td> <td>    0.098</td>\n",
       "</tr>\n",
       "<tr>\n",
       "  <th>YearBuilt</th>    <td>    0.0954</td> <td>    0.016</td> <td>    6.151</td> <td> 0.000</td> <td>    0.065</td> <td>    0.126</td>\n",
       "</tr>\n",
       "<tr>\n",
       "  <th>YrSold</th>       <td>    0.1961</td> <td>    0.277</td> <td>    0.709</td> <td> 0.479</td> <td>   -0.347</td> <td>    0.739</td>\n",
       "</tr>\n",
       "</table>\n",
       "<table class=\"simpletable\">\n",
       "<tr>\n",
       "  <th>Omnibus:</th>       <td>691.437</td> <th>  Durbin-Watson:     </th> <td>   1.988</td>\n",
       "</tr>\n",
       "<tr>\n",
       "  <th>Prob(Omnibus):</th> <td> 0.000</td>  <th>  Jarque-Bera (JB):  </th> <td>4670.576</td>\n",
       "</tr>\n",
       "<tr>\n",
       "  <th>Skew:</th>          <td> 2.502</td>  <th>  Prob(JB):          </th> <td>    0.00</td>\n",
       "</tr>\n",
       "<tr>\n",
       "  <th>Kurtosis:</th>      <td>10.938</td>  <th>  Cond. No.          </th> <td>6.15e+06</td>\n",
       "</tr>\n",
       "</table><br/><br/>Warnings:<br/>[1] Standard Errors assume that the covariance matrix of the errors is correctly specified.<br/>[2] The condition number is large, 6.15e+06. This might indicate that there are<br/>strong multicollinearity or other numerical problems."
      ],
      "text/plain": [
       "<class 'statsmodels.iolib.summary.Summary'>\n",
       "\"\"\"\n",
       "                            OLS Regression Results                            \n",
       "==============================================================================\n",
       "Dep. Variable:           PricePerArea   R-squared:                       0.199\n",
       "Model:                            OLS   Adj. R-squared:                  0.196\n",
       "Method:                 Least Squares   F-statistic:                     62.84\n",
       "Date:                Sun, 09 Feb 2020   Prob (F-statistic):           1.22e-58\n",
       "Time:                        17:47:29   Log-Likelihood:                -4864.3\n",
       "No. Observations:                1273   AIC:                             9741.\n",
       "Df Residuals:                    1267   BIC:                             9772.\n",
       "Df Model:                           5                                         \n",
       "Covariance Type:            nonrobust                                         \n",
       "================================================================================\n",
       "                   coef    std err          t      P>|t|      [0.025      0.975]\n",
       "--------------------------------------------------------------------------------\n",
       "const         -686.1263    554.480     -1.237      0.216   -1773.926     401.674\n",
       "OverallCond      0.4499      0.327      1.377      0.169      -0.191       1.091\n",
       "OverallQual      1.7826      0.287      6.210      0.000       1.219       2.346\n",
       "YearRemodAdd     0.0566      0.021      2.682      0.007       0.015       0.098\n",
       "YearBuilt        0.0954      0.016      6.151      0.000       0.065       0.126\n",
       "YrSold           0.1961      0.277      0.709      0.479      -0.347       0.739\n",
       "==============================================================================\n",
       "Omnibus:                      691.437   Durbin-Watson:                   1.988\n",
       "Prob(Omnibus):                  0.000   Jarque-Bera (JB):             4670.576\n",
       "Skew:                           2.502   Prob(JB):                         0.00\n",
       "Kurtosis:                      10.938   Cond. No.                     6.15e+06\n",
       "==============================================================================\n",
       "\n",
       "Warnings:\n",
       "[1] Standard Errors assume that the covariance matrix of the errors is correctly specified.\n",
       "[2] The condition number is large, 6.15e+06. This might indicate that there are\n",
       "strong multicollinearity or other numerical problems.\n",
       "\"\"\""
      ]
     },
     "execution_count": 111,
     "metadata": {},
     "output_type": "execute_result"
    }
   ],
   "source": [
    "df_reg.summary()"
   ]
  },
  {
   "cell_type": "markdown",
   "metadata": {},
   "source": [
    "### Insights \n",
    "\n",
    "- the later the house was remodeled the higher the Price per LotArea\n",
    "- the newer the house, the pricier\n",
    "- the later sold, the higher the price\n",
    "- with every increase in Overall Quality the price increases on average by 2.33 Euro\n",
    "- very weired: Overall Condition has a negative effect on price - but its also not\n",
    "significant\n",
    "- Overall Quality has the strongest Effect"
   ]
  },
  {
   "cell_type": "markdown",
   "metadata": {},
   "source": [
    "#### Inspect Neighborhood as Explanator for Price Per Area \n",
    "- Use dummy coding for categorical \n",
    "\n",
    "\n",
    "Neighborhood: Physical locations within Ames city limits\n",
    "\n",
    "       Blmngtn\tBloomington Heights\n",
    "       Blueste\tBluestem\n",
    "       BrDale\tBriardale\n",
    "       BrkSide\tBrookside\n",
    "       ClearCr\tClear Creek\n",
    "       CollgCr\tCollege Creek\n",
    "       Crawfor\tCrawford\n",
    "       Edwards\tEdwards\n",
    "       Gilbert\tGilbert\n",
    "       IDOTRR\tIowa DOT and Rail Road\n",
    "       MeadowV\tMeadow Village\n",
    "       Mitchel\tMitchell\n",
    "       Names\tNorth Ames\n",
    "       NoRidge\tNorthridge\n",
    "       NPkVill\tNorthpark Villa\n",
    "       NridgHt\tNorthridge Heights\n",
    "       NWAmes\tNorthwest Ames\n",
    "       OldTown\tOld Town\n",
    "       SWISU\tSouth & West of Iowa State University\n",
    "       Sawyer\tSawyer\n",
    "       SawyerW\tSawyer West\n",
    "       Somerst\tSomerset\n",
    "       StoneBr\tStone Brook\n",
    "       Timber\tTimberland\n",
    "       Veenker\tVeenker"
   ]
  },
  {
   "cell_type": "code",
   "execution_count": 76,
   "metadata": {
    "scrolled": true
   },
   "outputs": [
    {
     "data": {
      "text/html": [
       "<table class=\"simpletable\">\n",
       "<caption>OLS Regression Results</caption>\n",
       "<tr>\n",
       "  <th>Dep. Variable:</th>      <td>PricePerArea</td>   <th>  R-squared:         </th> <td>   0.610</td> \n",
       "</tr>\n",
       "<tr>\n",
       "  <th>Model:</th>                   <td>OLS</td>       <th>  Adj. R-squared:    </th> <td>   0.602</td> \n",
       "</tr>\n",
       "<tr>\n",
       "  <th>Method:</th>             <td>Least Squares</td>  <th>  F-statistic:       </th> <td>   74.93</td> \n",
       "</tr>\n",
       "<tr>\n",
       "  <th>Date:</th>             <td>Sun, 09 Feb 2020</td> <th>  Prob (F-statistic):</th> <td>4.32e-233</td>\n",
       "</tr>\n",
       "<tr>\n",
       "  <th>Time:</th>                 <td>17:24:56</td>     <th>  Log-Likelihood:    </th> <td> -4406.1</td> \n",
       "</tr>\n",
       "<tr>\n",
       "  <th>No. Observations:</th>      <td>  1273</td>      <th>  AIC:               </th> <td>   8866.</td> \n",
       "</tr>\n",
       "<tr>\n",
       "  <th>Df Residuals:</th>          <td>  1246</td>      <th>  BIC:               </th> <td>   9005.</td> \n",
       "</tr>\n",
       "<tr>\n",
       "  <th>Df Model:</th>              <td>    26</td>      <th>                     </th>     <td> </td>    \n",
       "</tr>\n",
       "<tr>\n",
       "  <th>Covariance Type:</th>      <td>nonrobust</td>    <th>                     </th>     <td> </td>    \n",
       "</tr>\n",
       "</table>\n",
       "<table class=\"simpletable\">\n",
       "<tr>\n",
       "                    <td></td>                       <th>coef</th>     <th>std err</th>      <th>t</th>      <th>P>|t|</th>  <th>[0.025</th>    <th>0.975]</th>  \n",
       "</tr>\n",
       "<tr>\n",
       "  <th>Intercept</th>                             <td> -130.4735</td> <td>   28.410</td> <td>   -4.592</td> <td> 0.000</td> <td> -186.211</td> <td>  -74.736</td>\n",
       "</tr>\n",
       "<tr>\n",
       "  <th>C(Neighborhood, Treatment)[T.Blueste]</th> <td>   32.9734</td> <td>    5.856</td> <td>    5.630</td> <td> 0.000</td> <td>   21.484</td> <td>   44.463</td>\n",
       "</tr>\n",
       "<tr>\n",
       "  <th>C(Neighborhood, Treatment)[T.BrDale]</th>  <td>    6.3515</td> <td>    2.843</td> <td>    2.234</td> <td> 0.026</td> <td>    0.774</td> <td>   11.929</td>\n",
       "</tr>\n",
       "<tr>\n",
       "  <th>C(Neighborhood, Treatment)[T.BrkSide]</th> <td>  -33.3638</td> <td>    2.293</td> <td>  -14.549</td> <td> 0.000</td> <td>  -37.863</td> <td>  -28.865</td>\n",
       "</tr>\n",
       "<tr>\n",
       "  <th>C(Neighborhood, Treatment)[T.ClearCr]</th> <td>  -37.1082</td> <td>    2.674</td> <td>  -13.879</td> <td> 0.000</td> <td>  -42.354</td> <td>  -31.863</td>\n",
       "</tr>\n",
       "<tr>\n",
       "  <th>C(Neighborhood, Treatment)[T.CollgCr]</th> <td>  -34.7913</td> <td>    2.063</td> <td>  -16.868</td> <td> 0.000</td> <td>  -38.838</td> <td>  -30.745</td>\n",
       "</tr>\n",
       "<tr>\n",
       "  <th>C(Neighborhood, Treatment)[T.Crawfor]</th> <td>  -32.6413</td> <td>    2.284</td> <td>  -14.290</td> <td> 0.000</td> <td>  -37.123</td> <td>  -28.160</td>\n",
       "</tr>\n",
       "<tr>\n",
       "  <th>C(Neighborhood, Treatment)[T.Edwards]</th> <td>  -35.4281</td> <td>    2.191</td> <td>  -16.173</td> <td> 0.000</td> <td>  -39.726</td> <td>  -31.130</td>\n",
       "</tr>\n",
       "<tr>\n",
       "  <th>C(Neighborhood, Treatment)[T.Gilbert]</th> <td>  -37.5636</td> <td>    2.155</td> <td>  -17.429</td> <td> 0.000</td> <td>  -41.792</td> <td>  -33.335</td>\n",
       "</tr>\n",
       "<tr>\n",
       "  <th>C(Neighborhood, Treatment)[T.IDOTRR]</th>  <td>  -36.9119</td> <td>    2.492</td> <td>  -14.809</td> <td> 0.000</td> <td>  -41.802</td> <td>  -32.022</td>\n",
       "</tr>\n",
       "<tr>\n",
       "  <th>C(Neighborhood, Treatment)[T.MeadowV]</th> <td>   -4.7108</td> <td>    2.922</td> <td>   -1.612</td> <td> 0.107</td> <td>  -10.444</td> <td>    1.022</td>\n",
       "</tr>\n",
       "<tr>\n",
       "  <th>C(Neighborhood, Treatment)[T.Mitchel]</th> <td>  -36.6519</td> <td>    2.302</td> <td>  -15.919</td> <td> 0.000</td> <td>  -41.169</td> <td>  -32.135</td>\n",
       "</tr>\n",
       "<tr>\n",
       "  <th>C(Neighborhood, Treatment)[T.NAmes]</th>   <td>  -36.5494</td> <td>    2.102</td> <td>  -17.386</td> <td> 0.000</td> <td>  -40.674</td> <td>  -32.425</td>\n",
       "</tr>\n",
       "<tr>\n",
       "  <th>C(Neighborhood, Treatment)[T.NPkVill]</th> <td>   -3.0072</td> <td>    3.557</td> <td>   -0.845</td> <td> 0.398</td> <td>   -9.986</td> <td>    3.972</td>\n",
       "</tr>\n",
       "<tr>\n",
       "  <th>C(Neighborhood, Treatment)[T.NWAmes]</th>  <td>  -37.6507</td> <td>    2.199</td> <td>  -17.119</td> <td> 0.000</td> <td>  -41.966</td> <td>  -33.336</td>\n",
       "</tr>\n",
       "<tr>\n",
       "  <th>C(Neighborhood, Treatment)[T.NoRidge]</th> <td>  -31.6717</td> <td>    2.377</td> <td>  -13.323</td> <td> 0.000</td> <td>  -36.336</td> <td>  -27.008</td>\n",
       "</tr>\n",
       "<tr>\n",
       "  <th>C(Neighborhood, Treatment)[T.NridgHt]</th> <td>  -28.5637</td> <td>    2.179</td> <td>  -13.106</td> <td> 0.000</td> <td>  -32.840</td> <td>  -24.288</td>\n",
       "</tr>\n",
       "<tr>\n",
       "  <th>C(Neighborhood, Treatment)[T.OldTown]</th> <td>  -35.0353</td> <td>    2.157</td> <td>  -16.240</td> <td> 0.000</td> <td>  -39.268</td> <td>  -30.803</td>\n",
       "</tr>\n",
       "<tr>\n",
       "  <th>C(Neighborhood, Treatment)[T.SWISU]</th>   <td>  -33.3058</td> <td>    2.619</td> <td>  -12.717</td> <td> 0.000</td> <td>  -38.444</td> <td>  -28.168</td>\n",
       "</tr>\n",
       "<tr>\n",
       "  <th>C(Neighborhood, Treatment)[T.Sawyer]</th>  <td>  -37.6003</td> <td>    2.277</td> <td>  -16.516</td> <td> 0.000</td> <td>  -42.067</td> <td>  -33.134</td>\n",
       "</tr>\n",
       "<tr>\n",
       "  <th>C(Neighborhood, Treatment)[T.SawyerW]</th> <td>  -35.8937</td> <td>    2.276</td> <td>  -15.773</td> <td> 0.000</td> <td>  -40.358</td> <td>  -31.429</td>\n",
       "</tr>\n",
       "<tr>\n",
       "  <th>C(Neighborhood, Treatment)[T.Somerst]</th> <td>  -23.1520</td> <td>    2.139</td> <td>  -10.823</td> <td> 0.000</td> <td>  -27.349</td> <td>  -18.955</td>\n",
       "</tr>\n",
       "<tr>\n",
       "  <th>C(Neighborhood, Treatment)[T.StoneBr]</th> <td>  -22.6340</td> <td>    2.659</td> <td>   -8.511</td> <td> 0.000</td> <td>  -27.851</td> <td>  -17.417</td>\n",
       "</tr>\n",
       "<tr>\n",
       "  <th>C(Neighborhood, Treatment)[T.Timber]</th>  <td>  -37.0000</td> <td>    2.404</td> <td>  -15.393</td> <td> 0.000</td> <td>  -41.716</td> <td>  -32.284</td>\n",
       "</tr>\n",
       "<tr>\n",
       "  <th>C(Neighborhood, Treatment)[T.Veenker]</th> <td>  -35.9876</td> <td>    3.149</td> <td>  -11.427</td> <td> 0.000</td> <td>  -42.166</td> <td>  -29.809</td>\n",
       "</tr>\n",
       "<tr>\n",
       "  <th>YearRemodAdd</th>                          <td>    0.0881</td> <td>    0.014</td> <td>    6.147</td> <td> 0.000</td> <td>    0.060</td> <td>    0.116</td>\n",
       "</tr>\n",
       "<tr>\n",
       "  <th>OverallQual</th>                           <td>    1.5677</td> <td>    0.235</td> <td>    6.661</td> <td> 0.000</td> <td>    1.106</td> <td>    2.029</td>\n",
       "</tr>\n",
       "</table>\n",
       "<table class=\"simpletable\">\n",
       "<tr>\n",
       "  <th>Omnibus:</th>       <td>593.583</td> <th>  Durbin-Watson:     </th> <td>   1.998</td>\n",
       "</tr>\n",
       "<tr>\n",
       "  <th>Prob(Omnibus):</th> <td> 0.000</td>  <th>  Jarque-Bera (JB):  </th> <td>5304.643</td>\n",
       "</tr>\n",
       "<tr>\n",
       "  <th>Skew:</th>          <td> 1.948</td>  <th>  Prob(JB):          </th> <td>    0.00</td>\n",
       "</tr>\n",
       "<tr>\n",
       "  <th>Kurtosis:</th>      <td>12.211</td>  <th>  Cond. No.          </th> <td>2.59e+05</td>\n",
       "</tr>\n",
       "</table><br/><br/>Warnings:<br/>[1] Standard Errors assume that the covariance matrix of the errors is correctly specified.<br/>[2] The condition number is large, 2.59e+05. This might indicate that there are<br/>strong multicollinearity or other numerical problems."
      ],
      "text/plain": [
       "<class 'statsmodels.iolib.summary.Summary'>\n",
       "\"\"\"\n",
       "                            OLS Regression Results                            \n",
       "==============================================================================\n",
       "Dep. Variable:           PricePerArea   R-squared:                       0.610\n",
       "Model:                            OLS   Adj. R-squared:                  0.602\n",
       "Method:                 Least Squares   F-statistic:                     74.93\n",
       "Date:                Sun, 09 Feb 2020   Prob (F-statistic):          4.32e-233\n",
       "Time:                        17:24:56   Log-Likelihood:                -4406.1\n",
       "No. Observations:                1273   AIC:                             8866.\n",
       "Df Residuals:                    1246   BIC:                             9005.\n",
       "Df Model:                          26                                         \n",
       "Covariance Type:            nonrobust                                         \n",
       "=========================================================================================================\n",
       "                                            coef    std err          t      P>|t|      [0.025      0.975]\n",
       "---------------------------------------------------------------------------------------------------------\n",
       "Intercept                              -130.4735     28.410     -4.592      0.000    -186.211     -74.736\n",
       "C(Neighborhood, Treatment)[T.Blueste]    32.9734      5.856      5.630      0.000      21.484      44.463\n",
       "C(Neighborhood, Treatment)[T.BrDale]      6.3515      2.843      2.234      0.026       0.774      11.929\n",
       "C(Neighborhood, Treatment)[T.BrkSide]   -33.3638      2.293    -14.549      0.000     -37.863     -28.865\n",
       "C(Neighborhood, Treatment)[T.ClearCr]   -37.1082      2.674    -13.879      0.000     -42.354     -31.863\n",
       "C(Neighborhood, Treatment)[T.CollgCr]   -34.7913      2.063    -16.868      0.000     -38.838     -30.745\n",
       "C(Neighborhood, Treatment)[T.Crawfor]   -32.6413      2.284    -14.290      0.000     -37.123     -28.160\n",
       "C(Neighborhood, Treatment)[T.Edwards]   -35.4281      2.191    -16.173      0.000     -39.726     -31.130\n",
       "C(Neighborhood, Treatment)[T.Gilbert]   -37.5636      2.155    -17.429      0.000     -41.792     -33.335\n",
       "C(Neighborhood, Treatment)[T.IDOTRR]    -36.9119      2.492    -14.809      0.000     -41.802     -32.022\n",
       "C(Neighborhood, Treatment)[T.MeadowV]    -4.7108      2.922     -1.612      0.107     -10.444       1.022\n",
       "C(Neighborhood, Treatment)[T.Mitchel]   -36.6519      2.302    -15.919      0.000     -41.169     -32.135\n",
       "C(Neighborhood, Treatment)[T.NAmes]     -36.5494      2.102    -17.386      0.000     -40.674     -32.425\n",
       "C(Neighborhood, Treatment)[T.NPkVill]    -3.0072      3.557     -0.845      0.398      -9.986       3.972\n",
       "C(Neighborhood, Treatment)[T.NWAmes]    -37.6507      2.199    -17.119      0.000     -41.966     -33.336\n",
       "C(Neighborhood, Treatment)[T.NoRidge]   -31.6717      2.377    -13.323      0.000     -36.336     -27.008\n",
       "C(Neighborhood, Treatment)[T.NridgHt]   -28.5637      2.179    -13.106      0.000     -32.840     -24.288\n",
       "C(Neighborhood, Treatment)[T.OldTown]   -35.0353      2.157    -16.240      0.000     -39.268     -30.803\n",
       "C(Neighborhood, Treatment)[T.SWISU]     -33.3058      2.619    -12.717      0.000     -38.444     -28.168\n",
       "C(Neighborhood, Treatment)[T.Sawyer]    -37.6003      2.277    -16.516      0.000     -42.067     -33.134\n",
       "C(Neighborhood, Treatment)[T.SawyerW]   -35.8937      2.276    -15.773      0.000     -40.358     -31.429\n",
       "C(Neighborhood, Treatment)[T.Somerst]   -23.1520      2.139    -10.823      0.000     -27.349     -18.955\n",
       "C(Neighborhood, Treatment)[T.StoneBr]   -22.6340      2.659     -8.511      0.000     -27.851     -17.417\n",
       "C(Neighborhood, Treatment)[T.Timber]    -37.0000      2.404    -15.393      0.000     -41.716     -32.284\n",
       "C(Neighborhood, Treatment)[T.Veenker]   -35.9876      3.149    -11.427      0.000     -42.166     -29.809\n",
       "YearRemodAdd                              0.0881      0.014      6.147      0.000       0.060       0.116\n",
       "OverallQual                               1.5677      0.235      6.661      0.000       1.106       2.029\n",
       "==============================================================================\n",
       "Omnibus:                      593.583   Durbin-Watson:                   1.998\n",
       "Prob(Omnibus):                  0.000   Jarque-Bera (JB):             5304.643\n",
       "Skew:                           1.948   Prob(JB):                         0.00\n",
       "Kurtosis:                      12.211   Cond. No.                     2.59e+05\n",
       "==============================================================================\n",
       "\n",
       "Warnings:\n",
       "[1] Standard Errors assume that the covariance matrix of the errors is correctly specified.\n",
       "[2] The condition number is large, 2.59e+05. This might indicate that there are\n",
       "strong multicollinearity or other numerical problems.\n",
       "\"\"\""
      ]
     },
     "execution_count": 76,
     "metadata": {},
     "output_type": "execute_result"
    }
   ],
   "source": [
    "from statsmodels.formula.api import ols\n",
    "\n",
    "from patsy.contrasts import Treatment\n",
    "#levels = [1,2,3,4,5,6,7,8,9,10,11,12,13,14,15,16,17,18,19,20,21,22,23,24,25]\n",
    "#contrast = Treatment(reference=0).code_without_intercept(levels)\n",
    "#print(contrast.matrix)\n",
    "\n",
    "#collgr Neighborhood is reference category\n",
    "\n",
    "mod = ols('PricePerArea ~ C(Neighborhood, Treatment) + YearRemodAdd + OverallQual', data=df).fit()\n",
    "mod.summary()\n",
    "\n",
    "#Neighborhood seems to be a good indicator for prediction of price per Area- Positive Effects on Price for Blueste and BrDale\n",
    "#in contrast to Collgr \n",
    "# wenn adding neighborhood categories, the value for Quality on price gets bigger, Year Remodeled gets smaller"
   ]
  },
  {
   "cell_type": "code",
   "execution_count": 40,
   "metadata": {},
   "outputs": [
    {
     "data": {
      "text/plain": [
       "[Text(0, 0, 'CollgCr'),\n",
       " Text(0, 0, 'Veenker'),\n",
       " Text(0, 0, 'Crawfor'),\n",
       " Text(0, 0, 'NoRidge'),\n",
       " Text(0, 0, 'Mitchel'),\n",
       " Text(0, 0, 'Somerst'),\n",
       " Text(0, 0, 'NWAmes'),\n",
       " Text(0, 0, 'OldTown'),\n",
       " Text(0, 0, 'BrkSide'),\n",
       " Text(0, 0, 'Sawyer'),\n",
       " Text(0, 0, 'NridgHt'),\n",
       " Text(0, 0, 'NAmes'),\n",
       " Text(0, 0, 'SawyerW'),\n",
       " Text(0, 0, 'IDOTRR'),\n",
       " Text(0, 0, 'MeadowV'),\n",
       " Text(0, 0, 'Edwards'),\n",
       " Text(0, 0, 'Timber'),\n",
       " Text(0, 0, 'Gilbert'),\n",
       " Text(0, 0, 'StoneBr'),\n",
       " Text(0, 0, 'ClearCr'),\n",
       " Text(0, 0, 'NPkVill'),\n",
       " Text(0, 0, 'Blmngtn'),\n",
       " Text(0, 0, 'BrDale'),\n",
       " Text(0, 0, 'SWISU'),\n",
       " Text(0, 0, 'Blueste')]"
      ]
     },
     "execution_count": 40,
     "metadata": {},
     "output_type": "execute_result"
    },
    {
     "data": {
      "image/png": "[encoded data removed]",
      "text/plain": [
       "<Figure size 432x288 with 1 Axes>"
      ]
     },
     "metadata": {
      "needs_background": "light"
     },
     "output_type": "display_data"
    }
   ],
   "source": [
    "n = sns.barplot(x=\"Neighborhood\", y=\"PricePerArea\", data=df)\n",
    "n.set_xticklabels(n.get_xticklabels(), rotation=90)"
   ]
  },
  {
   "cell_type": "markdown",
   "metadata": {},
   "source": [
    "###### Function is a categorial Variable that can be put in order - I change the categories to ranks"
   ]
  },
  {
   "cell_type": "code",
   "execution_count": 41,
   "metadata": {},
   "outputs": [
    {
     "data": {
      "text/plain": [
       "array([[<matplotlib.axes._subplots.AxesSubplot object at 0x00000297627E6588>]],\n",
       "      dtype=object)"
      ]
     },
     "execution_count": 41,
     "metadata": {},
     "output_type": "execute_result"
    },
    {
     "data": {
      "image/png": "[encoded data removed]",
      "text/plain": [
       "<Figure size 432x288 with 1 Axes>"
      ]
     },
     "metadata": {
      "needs_background": "light"
     },
     "output_type": "display_data"
    },
    {
     "data": {
      "image/png": "[encoded data removed]",
      "text/plain": [
       "<Figure size 432x288 with 1 Axes>"
      ]
     },
     "metadata": {
      "needs_background": "light"
     },
     "output_type": "display_data"
    }
   ],
   "source": [
    "df.Functional.unique()\n",
    "df.Functional = pd.Categorical(df.Functional)\n",
    "df['FunctionalCode'] = df.Functional.cat.codes\n",
    "\n",
    "sns.barplot(x=\"Functional\", y=\"PricePerArea\", data=df)\n",
    "df.hist(column=\"FunctionalCode\")"
   ]
  },
  {
   "cell_type": "markdown",
   "metadata": {},
   "source": [
    "##### Roof Material"
   ]
  },
  {
   "cell_type": "code",
   "execution_count": 42,
   "metadata": {},
   "outputs": [
    {
     "data": {
      "text/plain": [
       "<matplotlib.axes._subplots.AxesSubplot at 0x2976288f248>"
      ]
     },
     "execution_count": 42,
     "metadata": {},
     "output_type": "execute_result"
    },
    {
     "data": {
      "image/png": "[encoded data removed]",
      "text/plain": [
       "<Figure size 432x288 with 1 Axes>"
      ]
     },
     "metadata": {
      "needs_background": "light"
     },
     "output_type": "display_data"
    }
   ],
   "source": [
    "sns.barplot(x=\"RoofMatl\", y=\"PricePerArea\", data=df)"
   ]
  },
  {
   "cell_type": "markdown",
   "metadata": {},
   "source": [
    "### Condition1: Proximity to various conditions"
   ]
  },
  {
   "cell_type": "code",
   "execution_count": 43,
   "metadata": {
    "scrolled": true
   },
   "outputs": [
    {
     "data": {
      "text/plain": [
       "<matplotlib.axes._subplots.AxesSubplot at 0x29757c819c8>"
      ]
     },
     "execution_count": 43,
     "metadata": {},
     "output_type": "execute_result"
    },
    {
     "data": {
      "image/png": "[encoded data removed]",
      "text/plain": [
       "<Figure size 432x288 with 1 Axes>"
      ]
     },
     "metadata": {
      "needs_background": "light"
     },
     "output_type": "display_data"
    }
   ],
   "source": [
    "sns.barplot(x=\"Condition1\", y=\"PricePerArea\", data=df)"
   ]
  },
  {
   "cell_type": "code",
   "execution_count": 44,
   "metadata": {},
   "outputs": [
    {
     "data": {
      "text/plain": [
       "<matplotlib.axes._subplots.AxesSubplot at 0x297629b1d48>"
      ]
     },
     "execution_count": 44,
     "metadata": {},
     "output_type": "execute_result"
    },
    {
     "data": {
      "image/png": "[encoded data removed]",
      "text/plain": [
       "<Figure size 432x288 with 1 Axes>"
      ]
     },
     "metadata": {
      "needs_background": "light"
     },
     "output_type": "display_data"
    }
   ],
   "source": [
    "#### Type of Building\n",
    "\n",
    "sns.barplot(x=\"BldgType\", y=\"PricePerArea\", data=df)"
   ]
  },
  {
   "cell_type": "code",
   "execution_count": 45,
   "metadata": {},
   "outputs": [
    {
     "data": {
      "text/plain": [
       "[Text(0, 0, 'VinylSd'),\n",
       " Text(0, 0, 'MetalSd'),\n",
       " Text(0, 0, 'Wd Sdng'),\n",
       " Text(0, 0, 'HdBoard'),\n",
       " Text(0, 0, 'BrkFace'),\n",
       " Text(0, 0, 'WdShing'),\n",
       " Text(0, 0, 'CemntBd'),\n",
       " Text(0, 0, 'AsbShng'),\n",
       " Text(0, 0, 'Plywood'),\n",
       " Text(0, 0, 'Stucco'),\n",
       " Text(0, 0, 'BrkComm'),\n",
       " Text(0, 0, 'Stone'),\n",
       " Text(0, 0, 'ImStucc'),\n",
       " Text(0, 0, 'CBlock')]"
      ]
     },
     "execution_count": 45,
     "metadata": {},
     "output_type": "execute_result"
    },
    {
     "data": {
      "image/png": "[encoded data removed]",
      "text/plain": [
       "<Figure size 432x288 with 1 Axes>"
      ]
     },
     "metadata": {
      "needs_background": "light"
     },
     "output_type": "display_data"
    }
   ],
   "source": [
    "e = sns.barplot(x=\"Exterior1st\", y=\"PricePerArea\", data=df)\n",
    "e.set_xticklabels(e.get_xticklabels(), rotation=90)"
   ]
  },
  {
   "cell_type": "markdown",
   "metadata": {},
   "source": [
    "CONDITION VARIABLES as Explanator"
   ]
  },
  {
   "cell_type": "code",
   "execution_count": 46,
   "metadata": {},
   "outputs": [],
   "source": [
    "#building_levels = [1,2,3,4,5]\n",
    "#contrast = Treatment(reference=0).code_without_intercept(building_levels)\n",
    "\n",
    "#condition1_levels = [1,2,3,4,5,6,7,8,9]\n",
    "#contrast = Treatment(reference=0).code_without_intercept(condition1_levels)\n"
   ]
  },
  {
   "cell_type": "code",
   "execution_count": 72,
   "metadata": {},
   "outputs": [
    {
     "data": {
      "text/html": [
       "<table class=\"simpletable\">\n",
       "<caption>OLS Regression Results</caption>\n",
       "<tr>\n",
       "  <th>Dep. Variable:</th>      <td>PricePerArea</td>   <th>  R-squared:         </th> <td>   0.768</td>\n",
       "</tr>\n",
       "<tr>\n",
       "  <th>Model:</th>                   <td>OLS</td>       <th>  Adj. R-squared:    </th> <td>   0.761</td>\n",
       "</tr>\n",
       "<tr>\n",
       "  <th>Method:</th>             <td>Least Squares</td>  <th>  F-statistic:       </th> <td>   104.9</td>\n",
       "</tr>\n",
       "<tr>\n",
       "  <th>Date:</th>             <td>Sun, 09 Feb 2020</td> <th>  Prob (F-statistic):</th>  <td>  0.00</td> \n",
       "</tr>\n",
       "<tr>\n",
       "  <th>Time:</th>                 <td>16:31:50</td>     <th>  Log-Likelihood:    </th> <td> -4074.4</td>\n",
       "</tr>\n",
       "<tr>\n",
       "  <th>No. Observations:</th>      <td>  1273</td>      <th>  AIC:               </th> <td>   8229.</td>\n",
       "</tr>\n",
       "<tr>\n",
       "  <th>Df Residuals:</th>          <td>  1233</td>      <th>  BIC:               </th> <td>   8435.</td>\n",
       "</tr>\n",
       "<tr>\n",
       "  <th>Df Model:</th>              <td>    39</td>      <th>                     </th>     <td> </td>   \n",
       "</tr>\n",
       "<tr>\n",
       "  <th>Covariance Type:</th>      <td>nonrobust</td>    <th>                     </th>     <td> </td>   \n",
       "</tr>\n",
       "</table>\n",
       "<table class=\"simpletable\">\n",
       "<tr>\n",
       "               <td></td>                 <th>coef</th>     <th>std err</th>      <th>t</th>      <th>P>|t|</th>  <th>[0.025</th>    <th>0.975]</th>  \n",
       "</tr>\n",
       "<tr>\n",
       "  <th>Intercept</th>                  <td>  -97.0297</td> <td>   22.218</td> <td>   -4.367</td> <td> 0.000</td> <td> -140.619</td> <td>  -53.440</td>\n",
       "</tr>\n",
       "<tr>\n",
       "  <th>C(BldgType)[T.2fmCon]</th>      <td>   -1.9213</td> <td>    1.266</td> <td>   -1.518</td> <td> 0.129</td> <td>   -4.405</td> <td>    0.562</td>\n",
       "</tr>\n",
       "<tr>\n",
       "  <th>C(BldgType)[T.Duplex]</th>      <td>    1.1459</td> <td>    0.968</td> <td>    1.183</td> <td> 0.237</td> <td>   -0.754</td> <td>    3.046</td>\n",
       "</tr>\n",
       "<tr>\n",
       "  <th>C(BldgType)[T.Twnhs]</th>       <td>   31.5880</td> <td>    1.291</td> <td>   24.462</td> <td> 0.000</td> <td>   29.055</td> <td>   34.121</td>\n",
       "</tr>\n",
       "<tr>\n",
       "  <th>C(BldgType)[T.TwnhsE]</th>      <td>   16.9004</td> <td>    0.798</td> <td>   21.173</td> <td> 0.000</td> <td>   15.334</td> <td>   18.466</td>\n",
       "</tr>\n",
       "<tr>\n",
       "  <th>C(Condition1)[T.Feedr]</th>     <td>    1.7373</td> <td>    1.233</td> <td>    1.409</td> <td> 0.159</td> <td>   -0.681</td> <td>    4.156</td>\n",
       "</tr>\n",
       "<tr>\n",
       "  <th>C(Condition1)[T.Norm]</th>      <td>    2.0357</td> <td>    1.003</td> <td>    2.029</td> <td> 0.043</td> <td>    0.067</td> <td>    4.004</td>\n",
       "</tr>\n",
       "<tr>\n",
       "  <th>C(Condition1)[T.PosA]</th>      <td>   -0.4026</td> <td>    2.945</td> <td>   -0.137</td> <td> 0.891</td> <td>   -6.181</td> <td>    5.375</td>\n",
       "</tr>\n",
       "<tr>\n",
       "  <th>C(Condition1)[T.PosN]</th>      <td>    2.0504</td> <td>    1.791</td> <td>    1.145</td> <td> 0.253</td> <td>   -1.463</td> <td>    5.564</td>\n",
       "</tr>\n",
       "<tr>\n",
       "  <th>C(Condition1)[T.RRAe]</th>      <td>   -1.2205</td> <td>    2.432</td> <td>   -0.502</td> <td> 0.616</td> <td>   -5.992</td> <td>    3.551</td>\n",
       "</tr>\n",
       "<tr>\n",
       "  <th>C(Condition1)[T.RRAn]</th>      <td>   -1.6379</td> <td>    1.622</td> <td>   -1.010</td> <td> 0.313</td> <td>   -4.820</td> <td>    1.545</td>\n",
       "</tr>\n",
       "<tr>\n",
       "  <th>C(Condition1)[T.RRNe]</th>      <td>    5.0006</td> <td>    6.191</td> <td>    0.808</td> <td> 0.419</td> <td>   -7.145</td> <td>   17.146</td>\n",
       "</tr>\n",
       "<tr>\n",
       "  <th>C(Condition1)[T.RRNn]</th>      <td>    1.6024</td> <td>    3.215</td> <td>    0.498</td> <td> 0.618</td> <td>   -4.704</td> <td>    7.909</td>\n",
       "</tr>\n",
       "<tr>\n",
       "  <th>C(Neighborhood)[T.Blueste]</th> <td>   24.2983</td> <td>    4.582</td> <td>    5.303</td> <td> 0.000</td> <td>   15.310</td> <td>   33.287</td>\n",
       "</tr>\n",
       "<tr>\n",
       "  <th>C(Neighborhood)[T.BrDale]</th>  <td>   -5.7079</td> <td>    2.397</td> <td>   -2.381</td> <td> 0.017</td> <td>  -10.411</td> <td>   -1.005</td>\n",
       "</tr>\n",
       "<tr>\n",
       "  <th>C(Neighborhood)[T.BrkSide]</th> <td>  -17.0896</td> <td>    1.936</td> <td>   -8.828</td> <td> 0.000</td> <td>  -20.887</td> <td>  -13.292</td>\n",
       "</tr>\n",
       "<tr>\n",
       "  <th>C(Neighborhood)[T.ClearCr]</th> <td>  -21.1341</td> <td>    2.212</td> <td>   -9.556</td> <td> 0.000</td> <td>  -25.473</td> <td>  -16.795</td>\n",
       "</tr>\n",
       "<tr>\n",
       "  <th>C(Neighborhood)[T.CollgCr]</th> <td>  -20.0473</td> <td>    1.743</td> <td>  -11.503</td> <td> 0.000</td> <td>  -23.466</td> <td>  -16.628</td>\n",
       "</tr>\n",
       "<tr>\n",
       "  <th>C(Neighborhood)[T.Crawfor]</th> <td>  -18.2163</td> <td>    1.900</td> <td>   -9.588</td> <td> 0.000</td> <td>  -21.944</td> <td>  -14.489</td>\n",
       "</tr>\n",
       "<tr>\n",
       "  <th>C(Neighborhood)[T.Edwards]</th> <td>  -21.2541</td> <td>    1.840</td> <td>  -11.553</td> <td> 0.000</td> <td>  -24.863</td> <td>  -17.645</td>\n",
       "</tr>\n",
       "<tr>\n",
       "  <th>C(Neighborhood)[T.Gilbert]</th> <td>  -21.2423</td> <td>    1.833</td> <td>  -11.587</td> <td> 0.000</td> <td>  -24.839</td> <td>  -17.646</td>\n",
       "</tr>\n",
       "<tr>\n",
       "  <th>C(Neighborhood)[T.IDOTRR]</th>  <td>  -20.9685</td> <td>    2.070</td> <td>  -10.129</td> <td> 0.000</td> <td>  -25.030</td> <td>  -16.907</td>\n",
       "</tr>\n",
       "<tr>\n",
       "  <th>C(Neighborhood)[T.MeadowV]</th> <td>  -12.8132</td> <td>    2.353</td> <td>   -5.446</td> <td> 0.000</td> <td>  -17.429</td> <td>   -8.198</td>\n",
       "</tr>\n",
       "<tr>\n",
       "  <th>C(Neighborhood)[T.Mitchel]</th> <td>  -22.6216</td> <td>    1.914</td> <td>  -11.818</td> <td> 0.000</td> <td>  -26.377</td> <td>  -18.866</td>\n",
       "</tr>\n",
       "<tr>\n",
       "  <th>C(Neighborhood)[T.NAmes]</th>   <td>  -21.0167</td> <td>    1.788</td> <td>  -11.756</td> <td> 0.000</td> <td>  -24.524</td> <td>  -17.509</td>\n",
       "</tr>\n",
       "<tr>\n",
       "  <th>C(Neighborhood)[T.NPkVill]</th> <td>   -8.6407</td> <td>    2.780</td> <td>   -3.108</td> <td> 0.002</td> <td>  -14.095</td> <td>   -3.187</td>\n",
       "</tr>\n",
       "<tr>\n",
       "  <th>C(Neighborhood)[T.NWAmes]</th>  <td>  -21.6795</td> <td>    1.874</td> <td>  -11.568</td> <td> 0.000</td> <td>  -25.356</td> <td>  -18.003</td>\n",
       "</tr>\n",
       "<tr>\n",
       "  <th>C(Neighborhood)[T.NoRidge]</th> <td>  -16.4092</td> <td>    1.982</td> <td>   -8.279</td> <td> 0.000</td> <td>  -20.297</td> <td>  -12.521</td>\n",
       "</tr>\n",
       "<tr>\n",
       "  <th>C(Neighborhood)[T.NridgHt]</th> <td>  -19.0971</td> <td>    1.780</td> <td>  -10.726</td> <td> 0.000</td> <td>  -22.590</td> <td>  -15.604</td>\n",
       "</tr>\n",
       "<tr>\n",
       "  <th>C(Neighborhood)[T.OldTown]</th> <td>  -18.6803</td> <td>    1.845</td> <td>  -10.126</td> <td> 0.000</td> <td>  -22.300</td> <td>  -15.061</td>\n",
       "</tr>\n",
       "<tr>\n",
       "  <th>C(Neighborhood)[T.SWISU]</th>   <td>  -17.3947</td> <td>    2.167</td> <td>   -8.026</td> <td> 0.000</td> <td>  -21.647</td> <td>  -13.143</td>\n",
       "</tr>\n",
       "<tr>\n",
       "  <th>C(Neighborhood)[T.Sawyer]</th>  <td>  -21.5103</td> <td>    1.922</td> <td>  -11.192</td> <td> 0.000</td> <td>  -25.281</td> <td>  -17.740</td>\n",
       "</tr>\n",
       "<tr>\n",
       "  <th>C(Neighborhood)[T.SawyerW]</th> <td>  -21.4948</td> <td>    1.901</td> <td>  -11.305</td> <td> 0.000</td> <td>  -25.225</td> <td>  -17.765</td>\n",
       "</tr>\n",
       "<tr>\n",
       "  <th>C(Neighborhood)[T.Somerst]</th> <td>  -13.7215</td> <td>    1.747</td> <td>   -7.854</td> <td> 0.000</td> <td>  -17.149</td> <td>  -10.294</td>\n",
       "</tr>\n",
       "<tr>\n",
       "  <th>C(Neighborhood)[T.StoneBr]</th> <td>  -14.4670</td> <td>    2.099</td> <td>   -6.892</td> <td> 0.000</td> <td>  -18.585</td> <td>  -10.349</td>\n",
       "</tr>\n",
       "<tr>\n",
       "  <th>C(Neighborhood)[T.Timber]</th>  <td>  -21.4652</td> <td>    2.004</td> <td>  -10.713</td> <td> 0.000</td> <td>  -25.396</td> <td>  -17.534</td>\n",
       "</tr>\n",
       "<tr>\n",
       "  <th>C(Neighborhood)[T.Veenker]</th> <td>  -25.3145</td> <td>    2.499</td> <td>  -10.131</td> <td> 0.000</td> <td>  -30.217</td> <td>  -20.412</td>\n",
       "</tr>\n",
       "<tr>\n",
       "  <th>FunctionalCode</th>             <td>    0.1585</td> <td>    0.175</td> <td>    0.903</td> <td> 0.367</td> <td>   -0.186</td> <td>    0.503</td>\n",
       "</tr>\n",
       "<tr>\n",
       "  <th>OverallQual</th>                <td>    1.9526</td> <td>    0.186</td> <td>   10.475</td> <td> 0.000</td> <td>    1.587</td> <td>    2.318</td>\n",
       "</tr>\n",
       "<tr>\n",
       "  <th>YearRemodAdd</th>               <td>    0.0607</td> <td>    0.011</td> <td>    5.402</td> <td> 0.000</td> <td>    0.039</td> <td>    0.083</td>\n",
       "</tr>\n",
       "</table>\n",
       "<table class=\"simpletable\">\n",
       "<tr>\n",
       "  <th>Omnibus:</th>       <td>323.487</td> <th>  Durbin-Watson:     </th> <td>   1.970</td>\n",
       "</tr>\n",
       "<tr>\n",
       "  <th>Prob(Omnibus):</th> <td> 0.000</td>  <th>  Jarque-Bera (JB):  </th> <td>2479.377</td>\n",
       "</tr>\n",
       "<tr>\n",
       "  <th>Skew:</th>          <td> 0.960</td>  <th>  Prob(JB):          </th> <td>    0.00</td>\n",
       "</tr>\n",
       "<tr>\n",
       "  <th>Kurtosis:</th>      <td> 9.562</td>  <th>  Cond. No.          </th> <td>2.61e+05</td>\n",
       "</tr>\n",
       "</table><br/><br/>Warnings:<br/>[1] Standard Errors assume that the covariance matrix of the errors is correctly specified.<br/>[2] The condition number is large, 2.61e+05. This might indicate that there are<br/>strong multicollinearity or other numerical problems."
      ],
      "text/plain": [
       "<class 'statsmodels.iolib.summary.Summary'>\n",
       "\"\"\"\n",
       "                            OLS Regression Results                            \n",
       "==============================================================================\n",
       "Dep. Variable:           PricePerArea   R-squared:                       0.768\n",
       "Model:                            OLS   Adj. R-squared:                  0.761\n",
       "Method:                 Least Squares   F-statistic:                     104.9\n",
       "Date:                Sun, 09 Feb 2020   Prob (F-statistic):               0.00\n",
       "Time:                        16:31:50   Log-Likelihood:                -4074.4\n",
       "No. Observations:                1273   AIC:                             8229.\n",
       "Df Residuals:                    1233   BIC:                             8435.\n",
       "Df Model:                          39                                         \n",
       "Covariance Type:            nonrobust                                         \n",
       "==============================================================================================\n",
       "                                 coef    std err          t      P>|t|      [0.025      0.975]\n",
       "----------------------------------------------------------------------------------------------\n",
       "Intercept                    -97.0297     22.218     -4.367      0.000    -140.619     -53.440\n",
       "C(BldgType)[T.2fmCon]         -1.9213      1.266     -1.518      0.129      -4.405       0.562\n",
       "C(BldgType)[T.Duplex]          1.1459      0.968      1.183      0.237      -0.754       3.046\n",
       "C(BldgType)[T.Twnhs]          31.5880      1.291     24.462      0.000      29.055      34.121\n",
       "C(BldgType)[T.TwnhsE]         16.9004      0.798     21.173      0.000      15.334      18.466\n",
       "C(Condition1)[T.Feedr]         1.7373      1.233      1.409      0.159      -0.681       4.156\n",
       "C(Condition1)[T.Norm]          2.0357      1.003      2.029      0.043       0.067       4.004\n",
       "C(Condition1)[T.PosA]         -0.4026      2.945     -0.137      0.891      -6.181       5.375\n",
       "C(Condition1)[T.PosN]          2.0504      1.791      1.145      0.253      -1.463       5.564\n",
       "C(Condition1)[T.RRAe]         -1.2205      2.432     -0.502      0.616      -5.992       3.551\n",
       "C(Condition1)[T.RRAn]         -1.6379      1.622     -1.010      0.313      -4.820       1.545\n",
       "C(Condition1)[T.RRNe]          5.0006      6.191      0.808      0.419      -7.145      17.146\n",
       "C(Condition1)[T.RRNn]          1.6024      3.215      0.498      0.618      -4.704       7.909\n",
       "C(Neighborhood)[T.Blueste]    24.2983      4.582      5.303      0.000      15.310      33.287\n",
       "C(Neighborhood)[T.BrDale]     -5.7079      2.397     -2.381      0.017     -10.411      -1.005\n",
       "C(Neighborhood)[T.BrkSide]   -17.0896      1.936     -8.828      0.000     -20.887     -13.292\n",
       "C(Neighborhood)[T.ClearCr]   -21.1341      2.212     -9.556      0.000     -25.473     -16.795\n",
       "C(Neighborhood)[T.CollgCr]   -20.0473      1.743    -11.503      0.000     -23.466     -16.628\n",
       "C(Neighborhood)[T.Crawfor]   -18.2163      1.900     -9.588      0.000     -21.944     -14.489\n",
       "C(Neighborhood)[T.Edwards]   -21.2541      1.840    -11.553      0.000     -24.863     -17.645\n",
       "C(Neighborhood)[T.Gilbert]   -21.2423      1.833    -11.587      0.000     -24.839     -17.646\n",
       "C(Neighborhood)[T.IDOTRR]    -20.9685      2.070    -10.129      0.000     -25.030     -16.907\n",
       "C(Neighborhood)[T.MeadowV]   -12.8132      2.353     -5.446      0.000     -17.429      -8.198\n",
       "C(Neighborhood)[T.Mitchel]   -22.6216      1.914    -11.818      0.000     -26.377     -18.866\n",
       "C(Neighborhood)[T.NAmes]     -21.0167      1.788    -11.756      0.000     -24.524     -17.509\n",
       "C(Neighborhood)[T.NPkVill]    -8.6407      2.780     -3.108      0.002     -14.095      -3.187\n",
       "C(Neighborhood)[T.NWAmes]    -21.6795      1.874    -11.568      0.000     -25.356     -18.003\n",
       "C(Neighborhood)[T.NoRidge]   -16.4092      1.982     -8.279      0.000     -20.297     -12.521\n",
       "C(Neighborhood)[T.NridgHt]   -19.0971      1.780    -10.726      0.000     -22.590     -15.604\n",
       "C(Neighborhood)[T.OldTown]   -18.6803      1.845    -10.126      0.000     -22.300     -15.061\n",
       "C(Neighborhood)[T.SWISU]     -17.3947      2.167     -8.026      0.000     -21.647     -13.143\n",
       "C(Neighborhood)[T.Sawyer]    -21.5103      1.922    -11.192      0.000     -25.281     -17.740\n",
       "C(Neighborhood)[T.SawyerW]   -21.4948      1.901    -11.305      0.000     -25.225     -17.765\n",
       "C(Neighborhood)[T.Somerst]   -13.7215      1.747     -7.854      0.000     -17.149     -10.294\n",
       "C(Neighborhood)[T.StoneBr]   -14.4670      2.099     -6.892      0.000     -18.585     -10.349\n",
       "C(Neighborhood)[T.Timber]    -21.4652      2.004    -10.713      0.000     -25.396     -17.534\n",
       "C(Neighborhood)[T.Veenker]   -25.3145      2.499    -10.131      0.000     -30.217     -20.412\n",
       "FunctionalCode                 0.1585      0.175      0.903      0.367      -0.186       0.503\n",
       "OverallQual                    1.9526      0.186     10.475      0.000       1.587       2.318\n",
       "YearRemodAdd                   0.0607      0.011      5.402      0.000       0.039       0.083\n",
       "==============================================================================\n",
       "Omnibus:                      323.487   Durbin-Watson:                   1.970\n",
       "Prob(Omnibus):                  0.000   Jarque-Bera (JB):             2479.377\n",
       "Skew:                           0.960   Prob(JB):                         0.00\n",
       "Kurtosis:                       9.562   Cond. No.                     2.61e+05\n",
       "==============================================================================\n",
       "\n",
       "Warnings:\n",
       "[1] Standard Errors assume that the covariance matrix of the errors is correctly specified.\n",
       "[2] The condition number is large, 2.61e+05. This might indicate that there are\n",
       "strong multicollinearity or other numerical problems.\n",
       "\"\"\""
      ]
     },
     "execution_count": 72,
     "metadata": {},
     "output_type": "execute_result"
    }
   ],
   "source": [
    "\n",
    "mod3 = ols('PricePerArea ~ C(BldgType) + C(Condition1) + C(Neighborhood) + FunctionalCode + OverallQual + YearRemodAdd', data=df).fit()\n",
    "mod3.summary()"
   ]
  },
  {
   "cell_type": "code",
   "execution_count": 85,
   "metadata": {},
   "outputs": [
    {
     "data": {
      "image/png": "[encoded data removed]",
      "text/plain": [
       "<Figure size 432x288 with 1 Axes>"
      ]
     },
     "metadata": {
      "needs_background": "light"
     },
     "output_type": "display_data"
    }
   ],
   "source": [
    "sns.regplot(x=\"OverallQual\", y=\"PricePerArea\", data=df);"
   ]
  },
  {
   "cell_type": "code",
   "execution_count": 102,
   "metadata": {
    "scrolled": true
   },
   "outputs": [
    {
     "name": "stderr",
     "output_type": "stream",
     "text": [
      "C:\\Users\\Val\\Miniconda3\\envs\\test5\\lib\\site-packages\\ipykernel_launcher.py:9: UserWarning:\n",
      "\n",
      "Matplotlib is currently using module://ipykernel.pylab.backend_inline, which is a non-GUI backend, so cannot show the figure.\n",
      "\n"
     ]
    },
    {
     "data": {
      "image/png": "[encoded data removed]",
      "text/plain": [
       "<Figure size 842.4x595.44 with 2 Axes>"
      ]
     },
     "metadata": {},
     "output_type": "display_data"
    }
   ],
   "source": [
    "import matplotlib.pyplot as plt\n",
    "\n",
    "sns.set(rc={'figure.figsize':(11.7,8.27)})\n",
    "fig, ax =plt.subplots(1,2)\n",
    "\n",
    "sns.regplot(x=\"YearBuilt\", y=\"PricePerArea\", data=df, ax=ax[0])\n",
    "sns.regplot(x=\"YearRemodAdd\", y=\"PricePerArea\", data=df, ax=ax[1])\n",
    "\n",
    "fig.show()"
   ]
  }
 ],
 "metadata": {
  "kernelspec": {
   "display_name": "Python 3",
   "language": "python",
   "name": "python3"
  },
  "language_info": {
   "codemirror_mode": {
    "name": "ipython",
    "version": 3
   },
   "file_extension": ".py",
   "mimetype": "text/x-python",
   "name": "python",
   "nbconvert_exporter": "python",
   "pygments_lexer": "ipython3",
   "version": "3.7.6"
  }
 },
 "nbformat": 4,
 "nbformat_minor": 2
}
